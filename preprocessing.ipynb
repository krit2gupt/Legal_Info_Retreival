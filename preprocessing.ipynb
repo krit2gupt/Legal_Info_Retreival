{
  "cells": [
    {
      "cell_type": "code",
      "source": [
        "!pip install fuzzywuzzy==0.15.0"
      ],
      "metadata": {
        "colab": {
          "base_uri": "https://localhost:8080/"
        },
        "id": "c8by9okTP9sf",
        "outputId": "b9191db9-a425-47bd-d175-05873e9c9a74"
      },
      "id": "c8by9okTP9sf",
      "execution_count": null,
      "outputs": [
        {
          "output_type": "stream",
          "name": "stdout",
          "text": [
            "Looking in indexes: https://pypi.org/simple, https://us-python.pkg.dev/colab-wheels/public/simple/\n",
            "Collecting fuzzywuzzy==0.15.0\n",
            "  Downloading fuzzywuzzy-0.15.0-py2.py3-none-any.whl (28 kB)\n",
            "Installing collected packages: fuzzywuzzy\n",
            "Successfully installed fuzzywuzzy-0.15.0\n"
          ]
        }
      ]
    },
    {
      "cell_type": "code",
      "execution_count": null,
      "id": "99d2f5fb",
      "metadata": {
        "colab": {
          "base_uri": "https://localhost:8080/"
        },
        "id": "99d2f5fb",
        "outputId": "67390f1d-6ca6-4592-f7e7-14ed5e22f197"
      },
      "outputs": [
        {
          "output_type": "stream",
          "name": "stderr",
          "text": [
            "/usr/local/lib/python3.7/dist-packages/fuzzywuzzy/fuzz.py:35: UserWarning: Using slow pure-python SequenceMatcher. Install python-Levenshtein to remove this warning\n",
            "  warnings.warn('Using slow pure-python SequenceMatcher. Install python-Levenshtein to remove this warning')\n"
          ]
        }
      ],
      "source": [
        "import pandas as pd\n",
        "from fuzzywuzzy import fuzz,process"
      ]
    },
    {
      "cell_type": "code",
      "source": [
        "from google.colab import drive\n",
        "drive.mount('/content/drive')"
      ],
      "metadata": {
        "colab": {
          "base_uri": "https://localhost:8080/"
        },
        "id": "bDmmmIVTP7rq",
        "outputId": "b127938a-7af9-4f1c-bf91-80187fb72ed9"
      },
      "id": "bDmmmIVTP7rq",
      "execution_count": null,
      "outputs": [
        {
          "output_type": "stream",
          "name": "stdout",
          "text": [
            "Mounted at /content/drive\n"
          ]
        }
      ]
    },
    {
      "cell_type": "code",
      "execution_count": null,
      "id": "87097a11",
      "metadata": {
        "colab": {
          "base_uri": "https://localhost:8080/"
        },
        "id": "87097a11",
        "outputId": "61754faf-37da-42df-b1d4-2219c28c2c49"
      },
      "outputs": [
        {
          "output_type": "stream",
          "name": "stdout",
          "text": [
            "West Bengal done\n"
          ]
        }
      ],
      "source": [
        "#Original\n",
        "def analytics(state,analysis_type):\n",
        "  df_state = pd.read_csv(\"/content/drive/MyDrive/Legal Info Retrival/dataset/\"+state+'.csv')\n",
        "  choices = df_state[analysis_type]\n",
        "  choices=choices.dropna()\n",
        "  choices_df = pd.DataFrame(choices)\n",
        "  # /content/drive/MyDrive/Legal Info Retrival/dataset/India.csv\n",
        "  j=0\n",
        "  while(len(choices_df)!=0):\n",
        "    possibilities = process.extract(choices_df.iloc[0][0], choices,limit=400,scorer=fuzz.token_set_ratio)\n",
        "    temp=[possible for possible in possibilities if possible[1] > 80]\n",
        "    temp2=[]\n",
        "    name=choices_df.iloc[0][0]\n",
        "    for i in temp:\n",
        "      choices_df=choices_df.drop(i[2])\n",
        "      choices=choices.drop(i[2])\n",
        "      temp2.append(i[0])\n",
        "    #print(temp2)\n",
        "    df_state=df_state.replace(to_replace = temp2,value = name)\n",
        "  df_state.to_csv(\"/content/drive/MyDrive/Legal Info Retrival/\"+state+'.csv',index=False) \n",
        "\n",
        "def main():\n",
        "  states=['West Bengal']\n",
        "  #states=['Karnataka','Kerala','Madhya Pradesh','Maharashtra','Orissa','Punjab','Rajasthan','Sikkim','Tamil Nadu','Telangana','Uttar Pradesh','Uttarakhand','West Bengal','India']\n",
        "  analysis_type=['Complainant', 'Respondent', 'Complainant Advocate', 'Respondent Advocate']\n",
        "  #, 'Longest running cases', 'Shortest running cases', 'Persons involved', 'Advocates involved']\n",
        "  #analysis_type=['Longest running cases']\n",
        "  for i in states:\n",
        "    for j in analysis_type:\n",
        "      analytics(i,j)\n",
        "    print(i+\" done\")\n",
        "main()\n",
        "#/content/India.csv"
      ]
    },
    {
      "cell_type": "code",
      "execution_count": null,
      "id": "215c380b",
      "metadata": {
        "id": "215c380b"
      },
      "outputs": [],
      "source": []
    },
    {
      "cell_type": "code",
      "execution_count": null,
      "metadata": {
        "id": "E2bOKsSZx3PU",
        "colab": {
          "base_uri": "https://localhost:8080/"
        },
        "outputId": "62fb106d-3a69-4c41-f87b-2f233eb57e0c"
      },
      "outputs": [
        {
          "output_type": "stream",
          "name": "stdout",
          "text": [
            "India done\n"
          ]
        }
      ],
      "source": [
        "def analytics(state,analysis_type):\n",
        "  df_state = pd.read_csv(\"/content/drive/MyDrive/Legal Info Retrival/\"+state+'_PI.csv')\n",
        "  if analysis_type==\"Persons involved\":#Persons\n",
        "      df1=df_state[\"Complainant\"]\n",
        "      df2=df_state[\"Respondent\"]\n",
        "      choices = df1.append(df2, ignore_index=True)\n",
        "  elif analysis_type==\"Advocates involved\":#Advocates\n",
        "      df1=df_state[\"Complainant Advocate\"]\n",
        "      df2=df_state[\"Respondent Advocate\"]\n",
        "      choices = df1.append(df2, ignore_index=True)\n",
        "  else:#Rest\n",
        "      choices = df_state[analysis_type]\n",
        "  choices=choices.dropna()\n",
        "  choices_df = pd.DataFrame(choices)\n",
        "  # /content/drive/MyDrive/Legal Info Retrival/dataset/India.csv\n",
        "  j=0\n",
        "  while(len(choices_df)!=0):\n",
        "    possibilities = process.extract(choices_df.iloc[0][0], choices,limit=400,scorer=fuzz.token_set_ratio)\n",
        "    temp=[possible for possible in possibilities if possible[1] > 80]\n",
        "    temp2=[]\n",
        "    name=choices_df.iloc[0][0]\n",
        "    for i in temp:\n",
        "      choices_df=choices_df.drop(i[2])\n",
        "      choices=choices.drop(i[2])\n",
        "      temp2.append(i[0])\n",
        "    #print(temp2)\n",
        "    df_state=df_state.replace(to_replace = temp2,value = name)\n",
        "  df_state.to_csv(\"/content/drive/MyDrive/Legal Info Retrival/\"+state+'_final.csv',index=False) \n",
        "\n",
        "def main():\n",
        "  states=['India']\n",
        "  #states=['Karnataka','Kerala','Madhya Pradesh','Maharashtra','Orissa','Punjab','Rajasthan','Sikkim','Tamil Nadu','Telangana','Uttar Pradesh','Uttarakhand','West Bengal','India']\n",
        "  analysis_type=['Advocates involved',]\n",
        "  #, 'Longest running cases', 'Shortest running cases', 'Persons involved', 'Advocates involved']\n",
        "  #analysis_type=['Longest running cases']\n",
        "  for i in states:\n",
        "    for j in analysis_type:\n",
        "      analytics(i,j)\n",
        "    print(i+\" done\")\n",
        "main()\n",
        "#/content/India.csv"
      ],
      "id": "E2bOKsSZx3PU"
    },
    {
      "cell_type": "code",
      "source": [],
      "metadata": {
        "id": "U84YyYUizveq"
      },
      "id": "U84YyYUizveq",
      "execution_count": null,
      "outputs": []
    }
  ],
  "metadata": {
    "kernelspec": {
      "display_name": "Python 3 (ipykernel)",
      "language": "python",
      "name": "python3"
    },
    "language_info": {
      "codemirror_mode": {
        "name": "ipython",
        "version": 3
      },
      "file_extension": ".py",
      "mimetype": "text/x-python",
      "name": "python",
      "nbconvert_exporter": "python",
      "pygments_lexer": "ipython3",
      "version": "3.10.4"
    },
    "colab": {
      "name": "preprocessing.ipynb",
      "provenance": []
    },
    "accelerator": "GPU"
  },
  "nbformat": 4,
  "nbformat_minor": 5
}